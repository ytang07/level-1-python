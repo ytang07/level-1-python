{
 "cells": [
  {
   "cell_type": "code",
   "execution_count": 24,
   "metadata": {},
   "outputs": [
    {
     "name": "stdout",
     "output_type": "stream",
     "text": [
      "<bound method NDFrame.head of        age         workclass  education      marital-status         occupation    relationship                race     sex  hours-per-week native-country income\n",
      "0       39         State-gov  Bachelors       Never-married       Adm-clerical   Not-in-family               White    Male              40  United-States  <=50K\n",
      "1       50  Self-emp-not-inc  Bachelors  Married-civ-spouse    Exec-managerial         Husband               White    Male              13  United-States  <=50K\n",
      "2       38           Private    HS-grad            Divorced  Handlers-cleaners   Not-in-family               White    Male              40  United-States  <=50K\n",
      "3       53           Private       11th  Married-civ-spouse  Handlers-cleaners         Husband               Black    Male              40  United-States  <=50K\n",
      "4       28           Private  Bachelors  Married-civ-spouse     Prof-specialty            Wife               Black  Female              40           Cuba  <=50K\n",
      "...    ...               ...        ...                 ...                ...             ...                 ...     ...             ...            ...    ...\n",
      "48837   39           Private  Bachelors            Divorced     Prof-specialty   Not-in-family               White  Female              36  United-States  <=50K\n",
      "48838   64                 ?    HS-grad             Widowed                  ?  Other-relative               Black    Male              40  United-States  <=50K\n",
      "48839   38           Private  Bachelors  Married-civ-spouse     Prof-specialty         Husband               White    Male              50  United-States  <=50K\n",
      "48840   44           Private  Bachelors            Divorced       Adm-clerical       Own-child  Asian-Pac-Islander    Male              40  United-States  <=50K\n",
      "48841   35      Self-emp-inc  Bachelors  Married-civ-spouse    Exec-managerial         Husband               White    Male              60  United-States   >50K\n",
      "\n",
      "[48842 rows x 11 columns]>\n"
     ]
    }
   ],
   "source": [
    "import pandas as pd\n",
    " \n",
    "df = pd.read_csv(\"us-census-income.csv\")\n",
    "pd.set_option('display.max_columns', None)\n",
    "pd.set_option('expand_frame_repr', False)\n",
    "print(df.head)"
   ]
  },
  {
   "cell_type": "code",
   "execution_count": 10,
   "metadata": {},
   "outputs": [
    {
     "name": "stdout",
     "output_type": "stream",
     "text": [
      "Data Types:\n",
      "age                int64\n",
      "workclass         object\n",
      "education         object\n",
      "marital-status    object\n",
      "occupation        object\n",
      "relationship      object\n",
      "race              object\n",
      "sex               object\n",
      "hours-per-week     int64\n",
      "native-country    object\n",
      "income            object\n",
      "dtype: object\n"
     ]
    }
   ],
   "source": [
    "print(\"Data Types:\")\n",
    "print(df.dtypes)"
   ]
  },
  {
   "cell_type": "code",
   "execution_count": 13,
   "metadata": {},
   "outputs": [
    {
     "name": "stdout",
     "output_type": "stream",
     "text": [
      "Data Info:\n",
      "<class 'pandas.core.frame.DataFrame'>\n",
      "RangeIndex: 48842 entries, 0 to 48841\n",
      "Data columns (total 11 columns):\n",
      " #   Column          Non-Null Count  Dtype \n",
      "---  ------          --------------  ----- \n",
      " 0   age             48842 non-null  int64 \n",
      " 1   workclass       48842 non-null  object\n",
      " 2   education       48842 non-null  object\n",
      " 3   marital-status  48842 non-null  object\n",
      " 4   occupation      48842 non-null  object\n",
      " 5   relationship    48842 non-null  object\n",
      " 6   race            48842 non-null  object\n",
      " 7   sex             48842 non-null  object\n",
      " 8   hours-per-week  48842 non-null  int64 \n",
      " 9   native-country  48842 non-null  object\n",
      " 10  income          48842 non-null  object\n",
      "dtypes: int64(2), object(9)\n",
      "memory usage: 4.1+ MB\n",
      "None\n"
     ]
    }
   ],
   "source": [
    "print(\"Data Info:\")\n",
    "print(df.info())"
   ]
  },
  {
   "cell_type": "code",
   "execution_count": 11,
   "metadata": {},
   "outputs": [
    {
     "name": "stdout",
     "output_type": "stream",
     "text": [
      "Data Description:\n",
      "                age  hours-per-week\n",
      "count  48842.000000    48842.000000\n",
      "mean      38.643585       40.422382\n",
      "std       13.710510       12.391444\n",
      "min       17.000000        1.000000\n",
      "25%       28.000000       40.000000\n",
      "50%       37.000000       40.000000\n",
      "75%       48.000000       45.000000\n",
      "max       90.000000       99.000000\n"
     ]
    }
   ],
   "source": [
    "print(\"Data Description:\")\n",
    "print(df.describe())"
   ]
  },
  {
   "cell_type": "code",
   "execution_count": 14,
   "metadata": {},
   "outputs": [
    {
     "name": "stdout",
     "output_type": "stream",
     "text": [
      "       age  workclass     education      marital-status     occupation  \\\n",
      "28092   17    Private          10th       Never-married          Sales   \n",
      "46962   17    Private          12th       Never-married          Sales   \n",
      "42922   17    Private          10th       Never-married  Other-service   \n",
      "1389    17    Private          11th       Never-married  Other-service   \n",
      "32963   17    Private          11th       Never-married          Sales   \n",
      "...    ...        ...           ...                 ...            ...   \n",
      "5104    90    Private  Some-college       Never-married  Other-service   \n",
      "18725   90  Local-gov       HS-grad  Married-civ-spouse  Other-service   \n",
      "222     90    Private       HS-grad       Never-married  Other-service   \n",
      "31696   90          ?       HS-grad  Married-civ-spouse              ?   \n",
      "6624    90    Private          11th  Married-civ-spouse   Craft-repair   \n",
      "\n",
      "        relationship                race     sex  hours-per-week  \\\n",
      "28092      Own-child               White  Female              10   \n",
      "46962      Own-child               White  Female               8   \n",
      "42922      Own-child               White    Male              16   \n",
      "1389       Own-child               White    Male               5   \n",
      "32963      Own-child               White  Female              25   \n",
      "...              ...                 ...     ...             ...   \n",
      "5104   Not-in-family  Asian-Pac-Islander    Male              35   \n",
      "18725        Husband               White    Male              40   \n",
      "222    Not-in-family               Black    Male              40   \n",
      "31696        Husband               White    Male              40   \n",
      "6624         Husband               White    Male              40   \n",
      "\n",
      "      native-country income  \n",
      "28092  United-States  <=50K  \n",
      "46962  United-States  <=50K  \n",
      "42922  United-States  <=50K  \n",
      "1389   United-States  <=50K  \n",
      "32963  United-States  <=50K  \n",
      "...              ...    ...  \n",
      "5104   United-States  <=50K  \n",
      "18725  United-States  <=50K  \n",
      "222    United-States  <=50K  \n",
      "31696  United-States   >50K  \n",
      "6624   United-States  <=50K  \n",
      "\n",
      "[48842 rows x 11 columns]\n"
     ]
    }
   ],
   "source": [
    "print(df.sort_values(by=['age'], ascending=True))"
   ]
  },
  {
   "cell_type": "code",
   "execution_count": 17,
   "metadata": {},
   "outputs": [
    {
     "data": {
      "image/png": "[encoded data removed]",
      "text/plain": [
       "<Figure size 640x480 with 1 Axes>"
      ]
     },
     "metadata": {},
     "output_type": "display_data"
    }
   ],
   "source": [
    "import matplotlib.pyplot as plt\n",
    " \n",
    "fig=plt.figure()\n",
    "ax = fig.add_subplot(1,1,1)\n",
    "ax.hist(df['age'],bins = 8, color = \"lightblue\", ec=\"purple\")\n",
    "plt.title('Age distribution')\n",
    "plt.xlabel('Age')\n",
    "plt.ylabel('# of people')\n",
    "plt.show()"
   ]
  },
  {
   "cell_type": "code",
   "execution_count": 19,
   "metadata": {},
   "outputs": [
    {
     "name": "stdout",
     "output_type": "stream",
     "text": [
      "age\n",
      "False    48842\n",
      "Name: age, dtype: int64\n",
      "\n",
      "workclass\n",
      "False    46012\n",
      "True      2830\n",
      "Name: workclass, dtype: int64\n",
      "\n",
      "education\n",
      "False    48842\n",
      "Name: education, dtype: int64\n",
      "\n",
      "marital-status\n",
      "False    48842\n",
      "Name: marital-status, dtype: int64\n",
      "\n",
      "occupation\n",
      "False    46033\n",
      "True      2809\n",
      "Name: occupation, dtype: int64\n",
      "\n",
      "relationship\n",
      "False    48842\n",
      "Name: relationship, dtype: int64\n",
      "\n",
      "race\n",
      "False    48842\n",
      "Name: race, dtype: int64\n",
      "\n",
      "sex\n",
      "False    48842\n",
      "Name: sex, dtype: int64\n",
      "\n",
      "hours-per-week\n",
      "False    48842\n",
      "Name: hours-per-week, dtype: int64\n",
      "\n",
      "native-country\n",
      "False    47985\n",
      "True       857\n",
      "Name: native-country, dtype: int64\n",
      "\n",
      "income\n",
      "False    48842\n",
      "Name: income, dtype: int64\n",
      "\n"
     ]
    }
   ],
   "source": [
    "import numpy as np\n",
    "df.replace(\"?\", np.nan, inplace = True)\n",
    "missing_data = df.isnull()\n",
    " \n",
    "for column in missing_data.columns.values.tolist():\n",
    "    print(column)\n",
    "    print(missing_data[column].value_counts())\n",
    "    print(\"\")"
   ]
  },
  {
   "cell_type": "code",
   "execution_count": 27,
   "metadata": {},
   "outputs": [],
   "source": [
    "small_set = df.sample(n=10)\n",
    "small_set.to_csv(\"us-census-income-10-rows.csv\")"
   ]
  },
  {
   "cell_type": "code",
   "execution_count": null,
   "metadata": {},
   "outputs": [],
   "source": []
  }
 ],
 "metadata": {
  "kernelspec": {
   "display_name": "Python 3.10.1 ('level1_py310': venv)",
   "language": "python",
   "name": "python3"
  },
  "language_info": {
   "codemirror_mode": {
    "name": "ipython",
    "version": 3
   },
   "file_extension": ".py",
   "mimetype": "text/x-python",
   "name": "python",
   "nbconvert_exporter": "python",
   "pygments_lexer": "ipython3",
   "version": "3.10.1 (main, Jan 25 2022, 07:39:16) [Clang 13.0.0 (clang-1300.0.27.3)]"
  },
  "orig_nbformat": 4,
  "vscode": {
   "interpreter": {
    "hash": "8ac4a4ae3deee65bba6af2101cb82611a6bc5cad0c981b1130a34591a0c35068"
   }
  }
 },
 "nbformat": 4,
 "nbformat_minor": 2
}
